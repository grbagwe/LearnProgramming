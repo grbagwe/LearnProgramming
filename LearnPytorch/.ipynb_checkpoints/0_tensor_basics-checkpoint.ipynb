{
 "cells": [
  {
   "cell_type": "code",
   "execution_count": 1,
   "id": "da072896",
   "metadata": {},
   "outputs": [],
   "source": [
    "# learn tensor"
   ]
  },
  {
   "cell_type": "code",
   "execution_count": 2,
   "id": "ceb9ceef",
   "metadata": {},
   "outputs": [],
   "source": [
    "import torch"
   ]
  },
  {
   "cell_type": "code",
   "execution_count": 5,
   "id": "96adfb7a",
   "metadata": {},
   "outputs": [
    {
     "name": "stdout",
     "output_type": "stream",
     "text": [
      "torch.Size([3])\n"
     ]
    }
   ],
   "source": [
    "# create an empty tensor\n",
    "\n",
    "x = torch.empty(3)\n",
    "print(x)\n",
    "print(x.shape)\n",
    "# create an empty tensor\n",
    "\n",
    "x = torch.empty(3,2)\n",
    "print(x)\n",
    "print(x.shape)\n",
    "# create an empty tensor\n",
    "\n",
    "x = torch.empty(3,2,2,2)\n",
    "print(x)\n",
    "print(x.shape)\n",
    "# create an empty tensor\n",
    "\n",
    "# x = torch.empty(3)\n",
    "# print(x)\n",
    "# print(x.shape)"
   ]
  },
  {
   "cell_type": "code",
   "execution_count": null,
   "id": "7c663b66",
   "metadata": {},
   "outputs": [],
   "source": []
  }
 ],
 "metadata": {
  "kernelspec": {
   "display_name": "Python [conda env:LearnPytorch] *",
   "language": "python",
   "name": "conda-env-LearnPytorch-py"
  },
  "language_info": {
   "codemirror_mode": {
    "name": "ipython",
    "version": 3
   },
   "file_extension": ".py",
   "mimetype": "text/x-python",
   "name": "python",
   "nbconvert_exporter": "python",
   "pygments_lexer": "ipython3",
   "version": "3.7.11"
  }
 },
 "nbformat": 4,
 "nbformat_minor": 5
}
