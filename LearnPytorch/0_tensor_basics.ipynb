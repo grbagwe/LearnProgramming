{
 "cells": [
  {
   "cell_type": "code",
   "execution_count": 1,
   "id": "5e4d7762",
   "metadata": {},
   "outputs": [],
   "source": [
    "# learn tensor"
   ]
  },
  {
   "cell_type": "code",
   "execution_count": 2,
   "id": "87eb4d16",
   "metadata": {},
   "outputs": [],
   "source": [
    "import torch"
   ]
  },
  {
   "cell_type": "code",
   "execution_count": 6,
   "id": "b1b6ed44",
   "metadata": {},
   "outputs": [
    {
     "name": "stdout",
     "output_type": "stream",
     "text": [
      "tensor([2.2717e+14, 3.0956e-41, 2.2743e+14])\n",
      "torch.Size([3])\n",
      "tensor([[ 2.2746e+14,  3.0956e-41],\n",
      "        [ 2.2756e+14,  3.0956e-41],\n",
      "        [-4.8627e-38,  4.5782e-41]])\n",
      "torch.Size([3, 2])\n",
      "tensor([[[[1.1035e-04, 4.5783e-41],\n",
      "          [2.2710e+14, 3.0956e-41]],\n",
      "\n",
      "         [[4.4842e-44, 0.0000e+00],\n",
      "          [8.9683e-44, 0.0000e+00]]],\n",
      "\n",
      "\n",
      "        [[[2.2710e+14, 3.0956e-41],\n",
      "          [1.0779e-08, 2.4693e-18]],\n",
      "\n",
      "         [[3.1360e+27, 7.0800e+31],\n",
      "          [3.1095e-18, 4.7851e+22]]],\n",
      "\n",
      "\n",
      "        [[[2.8826e+32, 4.4248e+30],\n",
      "          [7.6729e+34, 2.1707e-18]],\n",
      "\n",
      "         [[4.5447e+30, 7.0062e+22],\n",
      "          [1.8077e-43, 0.0000e+00]]]])\n",
      "torch.Size([3, 2, 2, 2])\n"
     ]
    }
   ],
   "source": [
    "# create an empty tensor\n",
    "\n",
    "x = torch.empty(3)\n",
    "print(x)\n",
    "print(x.shape)\n",
    "# create an empty tensor\n",
    "\n",
    "x = torch.empty(3,2)\n",
    "print(x)\n",
    "print(x.shape)\n",
    "# create an empty tensor\n",
    "\n",
    "x = torch.empty(3,2,2,2)\n",
    "print(x)\n",
    "print(x.shape)\n",
    "# create an empty tensor\n",
    "\n",
    "# x = torch.empty(3)\n",
    "# print(x)\n",
    "# print(x.shape)"
   ]
  },
  {
   "cell_type": "code",
   "execution_count": 16,
   "id": "b2e90f08",
   "metadata": {},
   "outputs": [
    {
     "name": "stdout",
     "output_type": "stream",
     "text": [
      "tensor([[0.2314, 0.3639],\n",
      "        [0.5320, 0.4424]])\n",
      "tensor([[0., 0.],\n",
      "        [0., 0.]])\n",
      "tensor([[1., 1.],\n",
      "        [1., 1.]])\n",
      "torch.float32\n",
      "tensor([[1, 1],\n",
      "        [1, 1]], dtype=torch.int32)\n",
      "torch.int32\n"
     ]
    }
   ],
   "source": [
    "# for tensor with random values \n",
    "x = torch.rand(2,2)\n",
    "print(x)\n",
    "# for tensor with ones , or zeros\n",
    "x = torch.zeros(2,2)\n",
    "print(x)\n",
    "x = torch.ones(2,2)\n",
    "print(x)\n",
    "\n",
    "# the default data type is float32, \n",
    "print(x.dtype)\n",
    "\n",
    "# to change the dtype\n",
    "x  = torch.ones(2,2, dtype = torch.int) # dafault int is int32\n",
    "# other data types: float, double, int\n",
    "print(x)\n",
    "print(x.dtype)\n"
   ]
  },
  {
   "cell_type": "code",
   "execution_count": 20,
   "id": "bb541342",
   "metadata": {},
   "outputs": [
    {
     "name": "stdout",
     "output_type": "stream",
     "text": [
      "torch.Size([2, 2])\n",
      "tensor([3, 3])\n",
      "torch.Size([2])\n"
     ]
    }
   ],
   "source": [
    "# to show the size\n",
    "print(x.size())\n",
    "\n",
    "25\n",
    "# to create a tensor of size\n",
    "y = torch.tensor([3,3])\n",
    "print(y)\n",
    "print(y.size())\n",
    "`"
   ]
  },
  {
   "cell_type": "code",
   "execution_count": 26,
   "id": "28c9b285",
   "metadata": {},
   "outputs": [
    {
     "name": "stdout",
     "output_type": "stream",
     "text": [
      "x tensor([[0.0073, 0.0904],\n",
      "        [0.8140, 0.4598]]) \n",
      " y tensor([[0.3320, 0.8394],\n",
      "        [0.6295, 0.5055]])\n",
      "z tensor([[0.3392, 0.9298],\n",
      "        [1.4435, 0.9654]])\n",
      "z tensor([[0.3392, 0.9298],\n",
      "        [1.4435, 0.9654]])\n",
      "tensor([[0.3392, 0.9298],\n",
      "        [1.4435, 0.9654]])\n"
     ]
    }
   ],
   "source": [
    "# simple addition\n",
    "x = torch.rand(2,2)\n",
    "y= torch.rand(2,2)\n",
    "print(f'x {x} \\n y {y}')\n",
    "\n",
    "# add\n",
    "z = x+ y\n",
    "print(f'z {z}')\n",
    "z = torch.add(x,y)\n",
    "print(f'z {z}')\n",
    "# or inplace addition\n",
    "y.add_(x)\n",
    "print(y)\n",
    "# _ means inplace operattion in pytroch\n",
    "# similar with subract -> torch.sub\n",
    "# element wise multiplication\n",
    "# multiply = torch.mul\n",
    "# y.mul_(x) # modifies y\n",
    "# element wise division torch.div\n"
   ]
  },
  {
   "cell_type": "code",
   "execution_count": 29,
   "id": "436db45e",
   "metadata": {},
   "outputs": [
    {
     "name": "stdout",
     "output_type": "stream",
     "text": [
      "tensor([[0.9457, 0.8556, 0.6469],\n",
      "        [0.3041, 0.4620, 0.1428],\n",
      "        [0.7240, 0.7126, 0.9158],\n",
      "        [0.6749, 0.9813, 0.6501],\n",
      "        [0.3922, 0.3081, 0.1561]])\n",
      "tensor([0.9457, 0.3041, 0.7240, 0.6749, 0.3922])\n",
      "tensor([0.3041, 0.4620, 0.1428])\n"
     ]
    }
   ],
   "source": [
    "# slicing operation\n",
    "\n",
    "x = torch.rand(5,3)\n",
    "print(x)\n",
    "\n",
    "# all rows one column \n",
    "\n",
    "y = x[:,0]\n",
    "print(y)\n",
    "# all columns one row \n",
    "y = x[1,:] # second row all columns\n",
    "print(y)"
   ]
  },
  {
   "cell_type": "code",
   "execution_count": 36,
   "id": "6129a6c2",
   "metadata": {},
   "outputs": [
    {
     "name": "stdout",
     "output_type": "stream",
     "text": [
      "tensor([[0.5558, 0.9286, 0.8684, 0.6957, 0.6573, 0.4587],\n",
      "        [0.2316, 0.5351, 0.5780, 0.6280, 0.8296, 0.5362],\n",
      "        [0.3209, 0.3301, 0.4199, 0.6999, 0.3959, 0.9900],\n",
      "        [0.3101, 0.8736, 0.1805, 0.3999, 0.3856, 0.2869],\n",
      "        [0.9367, 0.4226, 0.5817, 0.9211, 0.8801, 0.6802]])\n",
      "tensor([0.5558, 0.9286, 0.8684, 0.6957, 0.6573, 0.4587, 0.2316, 0.5351, 0.5780,\n",
      "        0.6280, 0.8296, 0.5362, 0.3209, 0.3301, 0.4199, 0.6999, 0.3959, 0.9900,\n",
      "        0.3101, 0.8736, 0.1805, 0.3999, 0.3856, 0.2869, 0.9367, 0.4226, 0.5817,\n",
      "        0.9211, 0.8801, 0.6802])\n",
      "tensor([[0.5558, 0.9286, 0.8684, 0.6957, 0.6573, 0.4587, 0.2316, 0.5351, 0.5780,\n",
      "         0.6280],\n",
      "        [0.8296, 0.5362, 0.3209, 0.3301, 0.4199, 0.6999, 0.3959, 0.9900, 0.3101,\n",
      "         0.8736],\n",
      "        [0.1805, 0.3999, 0.3856, 0.2869, 0.9367, 0.4226, 0.5817, 0.9211, 0.8801,\n",
      "         0.6802]])\n"
     ]
    }
   ],
   "source": [
    "# reshaping a tensor\n",
    "\n",
    "x = torch.rand(5,6) \n",
    "print(x)\n",
    "y = x.view(30) # one d vector 4*41\n",
    "print(y)\n",
    "y = x.view(-1,10)\n",
    "print(y)"
   ]
  },
  {
   "cell_type": "code",
   "execution_count": 38,
   "id": "f4fdc11d",
   "metadata": {},
   "outputs": [],
   "source": [
    "# tensors <---> numpy\n",
    "import numpy as np"
   ]
  },
  {
   "cell_type": "code",
   "execution_count": 52,
   "id": "a8dc4b01",
   "metadata": {},
   "outputs": [
    {
     "name": "stdout",
     "output_type": "stream",
     "text": [
      "[1. 1. 1. 1. 1.] tensor([1., 1., 1., 1., 1.], dtype=torch.float64)\n",
      "[2. 2. 2. 2. 2.] tensor([2., 2., 2., 2., 2.], dtype=torch.float64)\n",
      "[6. 6. 6. 6. 6.] tensor([2., 2., 2., 2., 2.], dtype=torch.float64)\n",
      "[1. 1. 1. 1. 1.] tensor([1., 1., 1., 1., 1.], dtype=torch.float64)\n",
      "[6. 6. 6. 6. 6.] tensor([1., 1., 1., 1., 1.], device='cuda:0', dtype=torch.float64)\n"
     ]
    }
   ],
   "source": [
    "a =  np.ones(5)\n",
    "b = torch.from_numpy(a)\n",
    "print( a , b)\n",
    "# if a gets changed  b would also be changed when they are on the processor . e.g gpu\n",
    "\n",
    "a *= 2\n",
    "print(a , b)\n",
    "a = a * 3 \n",
    "print(a , b)\n",
    "\n",
    "# to change the tensor to gpu\n",
    "a =  np.ones(5)\n",
    "b = torch.from_numpy(a)\n",
    "\n",
    "print( a , b)\n",
    "b = b.to('cuda')\n",
    "# if a gets changed  b would also be changed when they are on the processor . e.g gpu\n",
    "\n",
    "a *= 2\n",
    "a = a * 3 \n",
    "print(a , b)\n",
    "\n",
    "# to change the tensor to gpu\n"
   ]
  },
  {
   "cell_type": "code",
   "execution_count": 54,
   "id": "5adde2e8",
   "metadata": {},
   "outputs": [
    {
     "name": "stdout",
     "output_type": "stream",
     "text": [
      "tensor([1., 1., 1., 1., 1.], requires_grad=True)\n"
     ]
    }
   ],
   "source": [
    "# when a tensor is created\n",
    "x = torch.ones(5, requires_grad  = True)\n",
    "print(x)\n",
    "# this tells that the gradient needs to calculate in the optimzation steps\n",
    "# whenever we want to optimize a vairable, we will use requires_grad = True"
   ]
  },
  {
   "cell_type": "code",
   "execution_count": null,
   "id": "0bc534f5",
   "metadata": {},
   "outputs": [],
   "source": []
  }
 ],
 "metadata": {
  "kernelspec": {
   "display_name": "Python [conda env:LearnPytorch]",
   "language": "python",
   "name": "conda-env-LearnPytorch-py"
  },
  "language_info": {
   "codemirror_mode": {
    "name": "ipython",
    "version": 3
   },
   "file_extension": ".py",
   "mimetype": "text/x-python",
   "name": "python",
   "nbconvert_exporter": "python",
   "pygments_lexer": "ipython3",
   "version": "3.7.11"
  }
 },
 "nbformat": 4,
 "nbformat_minor": 5
}
