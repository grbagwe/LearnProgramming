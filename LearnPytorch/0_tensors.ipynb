{
 "cells": [
  {
   "cell_type": "code",
   "execution_count": 1,
   "id": "e1376642",
   "metadata": {},
   "outputs": [],
   "source": [
    "# install torch and torchvision\n",
    "#!pip install torch\n",
    "# !pip install torchvision"
   ]
  },
  {
   "cell_type": "code",
   "execution_count": 2,
   "id": "2329506a",
   "metadata": {},
   "outputs": [],
   "source": [
    "import torch\n",
    "import torchvision\n",
    "import numpy as np"
   ]
  },
  {
   "cell_type": "markdown",
   "id": "ba308a2b",
   "metadata": {},
   "source": [
    "#Tensor"
   ]
  },
  {
   "cell_type": "code",
   "execution_count": 10,
   "id": "10bde846",
   "metadata": {},
   "outputs": [
    {
     "name": "stdout",
     "output_type": "stream",
     "text": [
      "torch.Size([2, 2])\n"
     ]
    }
   ],
   "source": [
    "data = [[1,2],[3,4]]\n",
    "x_data = torch.tensor(data)\n",
    "print(x_data.shape)"
   ]
  },
  {
   "cell_type": "code",
   "execution_count": 9,
   "id": "f9393c6a",
   "metadata": {},
   "outputs": [
    {
     "name": "stdout",
     "output_type": "stream",
     "text": [
      "torch.Size([2, 2])\n"
     ]
    }
   ],
   "source": [
    "x_nparray = np.array(data)\n",
    "x_np  = torch.from_numpy(x_nparray)\n",
    "print(x_np.shape)"
   ]
  },
  {
   "cell_type": "code",
   "execution_count": 13,
   "id": "edccf761",
   "metadata": {},
   "outputs": [
    {
     "name": "stdout",
     "output_type": "stream",
     "text": [
      "\n",
      " ones tensor: \n",
      " tensor([[1, 1],\n",
      "        [1, 1]]) \n",
      " random tensor : \n",
      " tensor([[0.1144, 0.8390],\n",
      "        [0.5510, 0.7191]])\n"
     ]
    }
   ],
   "source": [
    "# make tensor from shape of other tensor\n",
    "x_ones  = torch.ones_like(x_data)\n",
    "x_rand = torch.rand_like(x_data, dtype = torch.float)\n",
    "print(f\"\\n ones tensor: \\n {x_ones} \\n random tensor : \\n {x_rand}\")"
   ]
  },
  {
   "cell_type": "code",
   "execution_count": 14,
   "id": "49e342d9",
   "metadata": {},
   "outputs": [
    {
     "name": "stdout",
     "output_type": "stream",
     "text": [
      "Shape of tensor: torch.Size([3, 4])\n",
      "Datatype of tensor: torch.float32\n",
      "Device tensor is stored on: cpu\n"
     ]
    }
   ],
   "source": [
    "tensor = torch.rand(3,4)\n",
    "\n",
    "print(f\"Shape of tensor: {tensor.shape}\")\n",
    "print(f\"Datatype of tensor: {tensor.dtype}\")\n",
    "print(f\"Device tensor is stored on: {tensor.device}\")"
   ]
  },
  {
   "cell_type": "code",
   "execution_count": 18,
   "id": "2119c7ab",
   "metadata": {},
   "outputs": [
    {
     "name": "stdout",
     "output_type": "stream",
     "text": [
      "Shape of tensor: torch.Size([3, 4])\n",
      "Datatype of tensor: torch.float32\n",
      "Device tensor is stored on: cuda:0\n"
     ]
    }
   ],
   "source": [
    "if torch.cuda.is_available():\n",
    "    tensor = tensor.to('cuda')\n",
    "print(f\"Shape of tensor: {tensor.shape}\")\n",
    "print(f\"Datatype of tensor: {tensor.dtype}\")\n",
    "print(f\"Device tensor is stored on: {tensor.device}\") "
   ]
  },
  {
   "cell_type": "code",
   "execution_count": 20,
   "id": "7b6113a8",
   "metadata": {},
   "outputs": [
    {
     "name": "stdout",
     "output_type": "stream",
     "text": [
      "First row: tensor([0.5612, 0.0423, 0.2094, 0.5880])\n",
      "First column: tensor([0.5612, 0.3088, 0.3555, 0.7432])\n",
      "Last column: tensor([0.5880, 0.3472, 0.2689, 0.9238])\n",
      "tensor([[0.5612, 0.0000, 0.2094, 0.5880],\n",
      "        [0.3088, 0.0000, 0.3841, 0.3472],\n",
      "        [0.3555, 0.0000, 0.5838, 0.2689],\n",
      "        [0.7432, 0.0000, 0.4361, 0.9238]])\n"
     ]
    }
   ],
   "source": [
    "tensor = torch.rand(4, 4)\n",
    "print(f\"First row: {tensor[0]}\")\n",
    "print(f\"First column: {tensor[:, 0]}\")\n",
    "print(f\"Last column: {tensor[..., -1]}\")\n",
    "tensor[:,1] = 0\n",
    "print(tensor)"
   ]
  },
  {
   "cell_type": "code",
   "execution_count": 24,
   "id": "292f2624",
   "metadata": {},
   "outputs": [
    {
     "name": "stdout",
     "output_type": "stream",
     "text": [
      "tensor([[0.5612, 0.0000, 0.2094, 0.5880, 0.5612, 0.0000, 0.2094, 0.5880, 0.5612,\n",
      "         0.0000, 0.2094, 0.5880],\n",
      "        [0.3088, 0.0000, 0.3841, 0.3472, 0.3088, 0.0000, 0.3841, 0.3472, 0.3088,\n",
      "         0.0000, 0.3841, 0.3472],\n",
      "        [0.3555, 0.0000, 0.5838, 0.2689, 0.3555, 0.0000, 0.5838, 0.2689, 0.3555,\n",
      "         0.0000, 0.5838, 0.2689],\n",
      "        [0.7432, 0.0000, 0.4361, 0.9238, 0.7432, 0.0000, 0.4361, 0.9238, 0.7432,\n",
      "         0.0000, 0.4361, 0.9238]])\n",
      "tensor([[0.5612, 0.0000, 0.2094, 0.5880],\n",
      "        [0.3088, 0.0000, 0.3841, 0.3472],\n",
      "        [0.3555, 0.0000, 0.5838, 0.2689],\n",
      "        [0.7432, 0.0000, 0.4361, 0.9238],\n",
      "        [0.5612, 0.0000, 0.2094, 0.5880],\n",
      "        [0.3088, 0.0000, 0.3841, 0.3472],\n",
      "        [0.3555, 0.0000, 0.5838, 0.2689],\n",
      "        [0.7432, 0.0000, 0.4361, 0.9238],\n",
      "        [0.5612, 0.0000, 0.2094, 0.5880],\n",
      "        [0.3088, 0.0000, 0.3841, 0.3472],\n",
      "        [0.3555, 0.0000, 0.5838, 0.2689],\n",
      "        [0.7432, 0.0000, 0.4361, 0.9238]])\n"
     ]
    }
   ],
   "source": [
    "t1 = torch.cat([tensor, tensor, tensor], dim= 1)\n",
    "print(t1)\n",
    "t2 = torch.cat([tensor, tensor, tensor], dim =0)\n",
    "print(t2)"
   ]
  },
  {
   "cell_type": "code",
   "execution_count": 30,
   "id": "27da982b",
   "metadata": {},
   "outputs": [
    {
     "name": "stdout",
     "output_type": "stream",
     "text": [
      "tensor([[0.7046, 0.4579, 0.4799, 1.0517],\n",
      "        [0.4579, 0.3634, 0.4274, 0.7178],\n",
      "        [0.4799, 0.4274, 0.5395, 0.7673],\n",
      "        [1.0517, 0.7178, 0.7673, 1.5960]])\n",
      "tensor([[0.7046, 0.4579, 0.4799, 1.0517],\n",
      "        [0.4579, 0.3634, 0.4274, 0.7178],\n",
      "        [0.4799, 0.4274, 0.5395, 0.7673],\n",
      "        [1.0517, 0.7178, 0.7673, 1.5960]])\n",
      " \n",
      " z1 \n",
      "  tensor([[0.3150, 0.0000, 0.0744, 0.4370],\n",
      "        [0.0000, 0.0000, 0.0000, 0.0000],\n",
      "        [0.0744, 0.0000, 0.3408, 0.1173],\n",
      "        [0.4370, 0.0000, 0.1173, 0.8534]]) \n",
      " z2 \n",
      " tensor([[0.3150, 0.0000, 0.0744, 0.4370],\n",
      "        [0.0000, 0.0000, 0.0000, 0.0000],\n",
      "        [0.0744, 0.0000, 0.3408, 0.1173],\n",
      "        [0.4370, 0.0000, 0.1173, 0.8534]])\n"
     ]
    }
   ],
   "source": [
    "# matrix multiplacation\n",
    "y1 = tensor @ tensor.T\n",
    "y2 = tensor.matmul( tensor.T)\n",
    "\n",
    "print(y2)\n",
    "print(y1)\n",
    "\n",
    "# for element wise product \n",
    "z1  = tensor * tensor.T\n",
    "z2  = tensor.mul(tensor.T)\n",
    "print(f' \\n z1 \\n  {z1} \\n z2 \\n {z2}')"
   ]
  },
  {
   "cell_type": "code",
   "execution_count": 32,
   "id": "8590b507",
   "metadata": {},
   "outputs": [
    {
     "name": "stdout",
     "output_type": "stream",
     "text": [
      "5.710166931152344 <class 'float'>\n"
     ]
    }
   ],
   "source": [
    "# single element tensor\n",
    "agg = tensor.sum()\n",
    "agg_item = agg.item()\n",
    "print(agg_item, type(agg_item))"
   ]
  },
  {
   "cell_type": "code",
   "execution_count": null,
   "id": "d17ad2d2",
   "metadata": {},
   "outputs": [],
   "source": []
  }
 ],
 "metadata": {
  "kernelspec": {
   "display_name": "Python [conda env:flow] *",
   "language": "python",
   "name": "conda-env-flow-py"
  },
  "language_info": {
   "codemirror_mode": {
    "name": "ipython",
    "version": 3
   },
   "file_extension": ".py",
   "mimetype": "text/x-python",
   "name": "python",
   "nbconvert_exporter": "python",
   "pygments_lexer": "ipython3",
   "version": "3.7.3"
  }
 },
 "nbformat": 4,
 "nbformat_minor": 5
}
