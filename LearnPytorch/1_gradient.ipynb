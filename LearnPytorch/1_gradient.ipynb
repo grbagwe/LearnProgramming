{
 "cells": [
  {
   "cell_type": "code",
   "execution_count": 2,
   "id": "b363f44c",
   "metadata": {},
   "outputs": [],
   "source": [
    "# how to use autograd in torch to calculate gradient\n",
    "\n",
    "import torch"
   ]
  },
  {
   "cell_type": "code",
   "execution_count": 3,
   "id": "12690538",
   "metadata": {},
   "outputs": [
    {
     "name": "stdout",
     "output_type": "stream",
     "text": [
      "tensor([0.4439, 0.4057, 0.6275])\n"
     ]
    }
   ],
   "source": [
    "x = torch.rand(3)\n",
    "print(x)"
   ]
  },
  {
   "cell_type": "code",
   "execution_count": 13,
   "id": "5e514b60",
   "metadata": {},
   "outputs": [
    {
     "name": "stdout",
     "output_type": "stream",
     "text": [
      "tensor([0.8393, 0.6790, 0.5973], requires_grad=True)\n"
     ]
    }
   ],
   "source": [
    "# now we need to calculate the gradient of a funciton wrt x\n",
    "\n",
    "x = torch.rand(3, requires_grad= True)\n",
    "print(x)"
   ]
  },
  {
   "cell_type": "code",
   "execution_count": 65,
   "id": "d0bfd25a",
   "metadata": {},
   "outputs": [
    {
     "name": "stdout",
     "output_type": "stream",
     "text": [
      "tensor([0.7882, 0.1970, 0.8241], requires_grad=True)\n",
      "tensor([1.5764, 0.3941, 1.6482], grad_fn=<MulBackward0>)\n",
      "tensor([2.7882, 2.1970, 2.8241], grad_fn=<AddBackward0>)\n",
      "tensor([15.5480,  9.6539, 15.9510], grad_fn=<MulBackward0>)\n",
      "tensor(13.7176, grad_fn=<MeanBackward0>)\n",
      "tensor([3.7176, 2.9294, 3.7655])\n"
     ]
    }
   ],
   "source": [
    "x = torch.rand(3, requires_grad= True)\n",
    "\n",
    "print(x)\n",
    "print(x*2)\n",
    "y = x+2\n",
    "# this creates a computational graph , here the operation is + \n",
    "'''\n",
    " x ------\\\n",
    "        (+) ----- y\n",
    "         /\n",
    " 2 -----\n",
    "\n",
    "'''\n",
    "# this function is used for backpropgation\n",
    "print(y)\n",
    "# we can see the grad_fn with add backward0  which mea\n",
    "z = y *y* 2\n",
    "print(z)\n",
    "# here the operation is multiplaction we can see the MULbackward0 \n",
    "z = z.mean()\n",
    "print(z)\n",
    "# similarly a the meanBackward function\n",
    "z.backward()\n",
    "print(x.grad)"
   ]
  },
  {
   "cell_type": "code",
   "execution_count": null,
   "id": "cc21d2e9",
   "metadata": {},
   "outputs": [],
   "source": []
  }
 ],
 "metadata": {
  "kernelspec": {
   "display_name": "Python [conda env:LearnPytorch]",
   "language": "python",
   "name": "conda-env-LearnPytorch-py"
  },
  "language_info": {
   "codemirror_mode": {
    "name": "ipython",
    "version": 3
   },
   "file_extension": ".py",
   "mimetype": "text/x-python",
   "name": "python",
   "nbconvert_exporter": "python",
   "pygments_lexer": "ipython3",
   "version": "3.7.11"
  }
 },
 "nbformat": 4,
 "nbformat_minor": 5
}
