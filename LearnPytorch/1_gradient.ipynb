{
 "cells": [
  {
   "cell_type": "code",
   "execution_count": 1,
   "id": "b363f44c",
   "metadata": {},
   "outputs": [],
   "source": [
    "# how to use autograd in torch to calculate gradient\n",
    "\n",
    "import torch"
   ]
  },
  {
   "cell_type": "code",
   "execution_count": 2,
   "id": "12690538",
   "metadata": {},
   "outputs": [
    {
     "name": "stdout",
     "output_type": "stream",
     "text": [
      "tensor([0.1797, 0.1738, 0.2839])\n"
     ]
    }
   ],
   "source": [
    "x = torch.rand(3)\n",
    "print(x)"
   ]
  },
  {
   "cell_type": "code",
   "execution_count": 16,
   "id": "5e514b60",
   "metadata": {},
   "outputs": [
    {
     "name": "stdout",
     "output_type": "stream",
     "text": [
      "tensor([0.9290, 0.2273, 0.7255], requires_grad=True)\n"
     ]
    }
   ],
   "source": [
    "# now we need to calculate the gradient of a funciton wrt x\n",
    "\n",
    "x = torch.rand(3, requires_grad= True)\n",
    "print(x)"
   ]
  },
  {
   "cell_type": "code",
   "execution_count": 17,
   "id": "d0bfd25a",
   "metadata": {},
   "outputs": [
    {
     "name": "stdout",
     "output_type": "stream",
     "text": [
      "tensor([0.9290, 0.2273, 0.7255], requires_grad=True)\n",
      "tensor([2.9290, 2.2273, 2.7255], grad_fn=<AddBackward0>)\n",
      "tensor([17.1581,  9.9221, 14.8565], grad_fn=<MulBackward0>)\n",
      "tensor(13.9789, grad_fn=<MeanBackward0>)\n",
      "tensor([3.9053, 2.9698, 3.6340])\n"
     ]
    }
   ],
   "source": [
    "print(x)\n",
    "y = x+2\n",
    "# this creates a computational graph , here the operation is + \n",
    "'''\n",
    " x ------\\\n",
    "        (+) ----- y\n",
    "         /\n",
    " 2 -----\n",
    "\n",
    "'''\n",
    "# this function is used for backpropgation\n",
    "print(y)\n",
    "# we can see the grad_fn with add backward0  which mea\n",
    "z = y * y* 2\n",
    "print(z)\n",
    "# here the operation is multiplaction we can see the MULbackward0 \n",
    "z = z.mean()\n",
    "print(z)\n",
    "# similarly a the meanBackward function\n",
    "\n",
    "z.backward()\n",
    "print(x.grad)"
   ]
  },
  {
   "cell_type": "code",
   "execution_count": null,
   "id": "a3a1df06",
   "metadata": {},
   "outputs": [],
   "source": []
  },
  {
   "cell_type": "code",
   "execution_count": null,
   "id": "62db79fc",
   "metadata": {},
   "outputs": [],
   "source": []
  }
 ],
 "metadata": {
  "kernelspec": {
   "display_name": "Python [conda env:LearnPytorch] *",
   "language": "python",
   "name": "conda-env-LearnPytorch-py"
  },
  "language_info": {
   "codemirror_mode": {
    "name": "ipython",
    "version": 3
   },
   "file_extension": ".py",
   "mimetype": "text/x-python",
   "name": "python",
   "nbconvert_exporter": "python",
   "pygments_lexer": "ipython3",
   "version": "3.7.11"
  }
 },
 "nbformat": 4,
 "nbformat_minor": 5
}
